{
  "nbformat": 4,
  "nbformat_minor": 0,
  "metadata": {
    "colab": {
      "provenance": [],
      "toc_visible": true,
      "authorship_tag": "ABX9TyPb/C6Ap67dKtd+5esG2R2L",
      "include_colab_link": true
    },
    "kernelspec": {
      "name": "python3",
      "display_name": "Python 3"
    },
    "language_info": {
      "name": "python"
    }
  },
  "cells": [
    {
      "cell_type": "markdown",
      "metadata": {
        "id": "view-in-github",
        "colab_type": "text"
      },
      "source": [
        "<a href=\"https://colab.research.google.com/github/azizivakili/pypanda/blob/main/First_Example.ipynb\" target=\"_parent\"><img src=\"https://colab.research.google.com/assets/colab-badge.svg\" alt=\"Open In Colab\"/></a>"
      ]
    },
    {
      "cell_type": "markdown",
      "source": [
        "### Panda - Excercises\n"
      ],
      "metadata": {
        "id": "5Q7HojXxvVjO"
      }
    },
    {
      "cell_type": "code",
      "source": [
        "import pandas as pd\n",
        "\n",
        "stocks = ['EPT','EXA','11B','prodect']\n",
        "print(pd.Series(data=stocks))\n"
      ],
      "metadata": {
        "colab": {
          "base_uri": "https://localhost:8080/"
        },
        "id": "f_JPPvR_Dn_p",
        "outputId": "a8392eff-a153-42a2-e7e9-e9446a38b2d9"
      },
      "execution_count": 20,
      "outputs": [
        {
          "output_type": "stream",
          "name": "stdout",
          "text": [
            "0        EPT\n",
            "1        EXA\n",
            "2        11B\n",
            "3    prodect\n",
            "dtype: object\n"
          ]
        }
      ]
    },
    {
      "cell_type": "markdown",
      "source": [],
      "metadata": {
        "id": "3fWMaX3KcEod"
      }
    },
    {
      "cell_type": "code",
      "source": [
        "stocks = {'PLW': 387.00, 'CDR': 339.5, 'TEN': 349.5, '11B': 391.0}\n",
        "quotations = pd.Series(data=stocks)\n",
        "print(quotations)"
      ],
      "metadata": {
        "colab": {
          "base_uri": "https://localhost:8080/"
        },
        "id": "8P6yhMLzEA4D",
        "outputId": "e5bbc485-554f-46f7-ab4f-9b90eb3c21bd"
      },
      "execution_count": 15,
      "outputs": [
        {
          "output_type": "stream",
          "name": "stdout",
          "text": [
            "PLW    387.0\n",
            "CDR    339.5\n",
            "TEN    349.5\n",
            "11B    391.0\n",
            "dtype: float64\n"
          ]
        }
      ]
    },
    {
      "cell_type": "markdown",
      "source": [
        "**convert the Series to list**"
      ],
      "metadata": {
        "id": "T5MJOf43cF8S"
      }
    },
    {
      "cell_type": "code",
      "source": [
        "stocks = {'PLW': 387.00, 'CDR': 339.5, 'TEN': 349.5, '11B': 391.0}\n",
        "\n",
        "quotations = quotations.tolist()\n",
        "\n",
        "print(quotations)"
      ],
      "metadata": {
        "colab": {
          "base_uri": "https://localhost:8080/"
        },
        "id": "b3ss4LCHcLYS",
        "outputId": "cfab8cc2-bb86-46cb-842c-1d1a9e418bfa"
      },
      "execution_count": 17,
      "outputs": [
        {
          "output_type": "stream",
          "name": "stdout",
          "text": [
            "[387.0, 339.5, 349.5, 391.0]\n"
          ]
        }
      ]
    },
    {
      "cell_type": "code",
      "source": [
        "### Create a Datafram from dectionary ###\n",
        "\n",
        "stocks = {'PLW': 387.00, 'CDR': 339.5, 'TEN': 349.5, '11B': 391.0}\n",
        "quotations = pd.Series(data=stocks)\n",
        "\n",
        "quotations = pd.DataFrame(quotations, columns=['price'])\n",
        "\n",
        "print(quotations)"
      ],
      "metadata": {
        "colab": {
          "base_uri": "https://localhost:8080/"
        },
        "id": "y70mCx_Qcmt3",
        "outputId": "18742f14-28a8-4867-c10e-87bc9408ecda"
      },
      "execution_count": 32,
      "outputs": [
        {
          "output_type": "stream",
          "name": "stdout",
          "text": [
            "     price\n",
            "PLW  387.0\n",
            "CDR  339.5\n",
            "TEN  349.5\n",
            "11B  391.0\n"
          ]
        }
      ]
    },
    {
      "cell_type": "code",
      "source": [
        "### Create Datafram from  list Dectionry\n",
        "import pandas as pd\n",
        "stocks ={'Name':['PLW','CDR','TEN','11B'],'num':[387.00,339.5,349.5,391.0]}\n",
        "\n",
        "quotations = pd.DataFrame(stocks ,index=['1','2','3','4',])\n",
        "print(quotations)"
      ],
      "metadata": {
        "colab": {
          "base_uri": "https://localhost:8080/"
        },
        "id": "Ra4C1ddpeG1R",
        "outputId": "2a7c1c3e-a8d3-42d0-a368-e6241acedd8b"
      },
      "execution_count": 59,
      "outputs": [
        {
          "output_type": "stream",
          "name": "stdout",
          "text": [
            "  Name    num\n",
            "1  PLW  387.0\n",
            "2  CDR  339.5\n",
            "3  TEN  349.5\n",
            "4  11B  391.0\n"
          ]
        }
      ]
    },
    {
      "cell_type": "code",
      "source": [
        "import numpy as np\n",
        "import pandas as pd\n",
        "\n",
        "s = pd.Series(\n",
        "    data=np.arange(10, 100, 10),\n",
        "    index=np.arange(101, 110),\n",
        "    dtype='float'\n",
        ")\n",
        "print(s)"
      ],
      "metadata": {
        "colab": {
          "base_uri": "https://localhost:8080/"
        },
        "id": "COn8icCGgDPK",
        "outputId": "b87f3170-160f-4093-b228-ab2b555840c8"
      },
      "execution_count": 63,
      "outputs": [
        {
          "output_type": "stream",
          "name": "stdout",
          "text": [
            "101    10.0\n",
            "102    20.0\n",
            "103    30.0\n",
            "104    40.0\n",
            "105    50.0\n",
            "106    60.0\n",
            "107    70.0\n",
            "108    80.0\n",
            "109    90.0\n",
            "dtype: float64\n"
          ]
        }
      ]
    },
    {
      "cell_type": "code",
      "source": [
        "series = pd.Series(['001', '002', '003', '004'], list('abcd'))\n",
        "\n",
        "print(series)\n",
        "print()\n",
        "print(\"#########################################################\")\n",
        "series = pd.Series(['001', '002', '003', '004'], list('abcd'))\n",
        "\n",
        "series = series.astype(int)\n",
        "print(series)"
      ],
      "metadata": {
        "colab": {
          "base_uri": "https://localhost:8080/"
        },
        "id": "7RVF-Xrpoe4g",
        "outputId": "fe7a6666-f208-4913-8027-8b7599f45406"
      },
      "execution_count": 72,
      "outputs": [
        {
          "output_type": "stream",
          "name": "stdout",
          "text": [
            "a    001\n",
            "b    002\n",
            "c    003\n",
            "d    004\n",
            "dtype: object\n",
            "\n",
            "#########################################################\n",
            "a    1\n",
            "b    2\n",
            "c    3\n",
            "d    4\n",
            "dtype: int64\n"
          ]
        }
      ]
    },
    {
      "cell_type": "code",
      "source": [],
      "metadata": {
        "id": "FSlBlSKKpgBq"
      },
      "execution_count": null,
      "outputs": []
    },
    {
      "cell_type": "markdown",
      "source": [
        "**Add two element to following Series**"
      ],
      "metadata": {
        "id": "HEUalPGwqgZY"
      }
    },
    {
      "cell_type": "code",
      "source": [
        "stocks = {'PLW': 387.00, 'CDR': 339.5, 'TEN': 349.5, '11B': 391.0}\n",
        "quotations = pd.Series(data=stocks)\n",
        "\n",
        "\n",
        "quotations = quotations.append(pd.Series({'BBT': 25.5, 'F51': 19.2}))\n",
        " #----------------------------------------------------------------------\n",
        "#quotations = quotations.concat(pd.Series({'BBT': 25.5, 'F51': 19.2}))\n",
        " #----------------------------------------------------------------------\n",
        "\n",
        "\n",
        "print(quotations)"
      ],
      "metadata": {
        "colab": {
          "base_uri": "https://localhost:8080/"
        },
        "id": "ytJdZ9a4qmgo",
        "outputId": "d0f0dc24-a251-4662-d425-21769c50a243"
      },
      "execution_count": 87,
      "outputs": [
        {
          "output_type": "stream",
          "name": "stdout",
          "text": [
            "PLW    387.0\n",
            "CDR    339.5\n",
            "TEN    349.5\n",
            "11B    391.0\n",
            "BBT     25.5\n",
            "F51     19.2\n",
            "dtype: float64\n"
          ]
        },
        {
          "output_type": "stream",
          "name": "stderr",
          "text": [
            "<ipython-input-87-285d71bd5e46>:5: FutureWarning: The series.append method is deprecated and will be removed from pandas in a future version. Use pandas.concat instead.\n",
            "  quotations = quotations.append(pd.Series({'BBT': 25.5, 'F51': 19.2}))\n"
          ]
        }
      ]
    },
    {
      "cell_type": "code",
      "source": [],
      "metadata": {
        "id": "PvUZ7oFQrBEd"
      },
      "execution_count": 84,
      "outputs": []
    },
    {
      "cell_type": "markdown",
      "source": [
        "**Convert a data Serice to DataFrame**"
      ],
      "metadata": {
        "id": "6rIvGCkryYsW"
      }
    },
    {
      "cell_type": "code",
      "source": [
        "stocks = {\n",
        "    'PLW': 387.00,\n",
        "    'CDR': 339.5,\n",
        "    'TEN': 349.5,\n",
        "    '11B': 391.0,\n",
        "    'BBT': 25.5,\n",
        "    'F51': 19.2\n",
        "}\n",
        "quotations = pd.Series(data=stocks)\n",
        "#--------------------------------------------------------\n",
        "quotations = pd.DataFrame(quotations).reset_index()\n",
        "quotations.columns = ['ticker', 'price']\n",
        "print(quotations)"
      ],
      "metadata": {
        "colab": {
          "base_uri": "https://localhost:8080/"
        },
        "id": "FIYp9Ix7yfRX",
        "outputId": "bab74534-6125-497f-c918-0102d5daa0f3"
      },
      "execution_count": 92,
      "outputs": [
        {
          "output_type": "stream",
          "name": "stdout",
          "text": [
            "  ticker  price\n",
            "0    PLW  387.0\n",
            "1    CDR  339.5\n",
            "2    TEN  349.5\n",
            "3    11B  391.0\n",
            "4    BBT   25.5\n",
            "5    F51   19.2\n"
          ]
        }
      ]
    },
    {
      "cell_type": "code",
      "source": [],
      "metadata": {
        "id": "B4VwuC61y5mL"
      },
      "execution_count": 91,
      "outputs": []
    },
    {
      "cell_type": "code",
      "source": [],
      "metadata": {
        "id": "cBGAZy8-zRit"
      },
      "execution_count": null,
      "outputs": []
    }
  ]
}